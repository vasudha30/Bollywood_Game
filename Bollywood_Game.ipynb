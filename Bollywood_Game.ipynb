{
 "cells": [
  {
   "cell_type": "markdown",
   "id": "e9c5cceb",
   "metadata": {},
   "source": [
    "# With List"
   ]
  },
  {
   "cell_type": "code",
   "execution_count": 2,
   "id": "9045cbfa",
   "metadata": {},
   "outputs": [],
   "source": [
    "# Bollywood Word Guessing Game\n",
    "\n",
    "import random"
   ]
  },
  {
   "cell_type": "code",
   "execution_count": 3,
   "id": "e08d4976",
   "metadata": {},
   "outputs": [],
   "source": [
    "# List of Bollywood movie titles\n",
    "movies = [\"Sholay\", \"Dangal\", \"Lagaan\", \"Dilwale\", \"Kahaani\", \"Padmaavat\"]"
   ]
  },
  {
   "cell_type": "code",
   "execution_count": null,
   "id": "9b8523ac",
   "metadata": {},
   "outputs": [],
   "source": [
    "# Step 1: Randomly select a movie\n",
    "selected_movie = random.choice(movies).upper()  # Convert to uppercase for consistency"
   ]
  },
  {
   "cell_type": "code",
   "execution_count": null,
   "id": "227d1331",
   "metadata": {},
   "outputs": [],
   "source": [
    "# Step 2: Create a masked version of the movie using a list\n",
    "masked_movie = []\n",
    "for char in selected_movie:\n",
    "    if char.isalpha():  # Only mask alphabetic characters\n",
    "        masked_movie.append(\"_\")\n",
    "    else:\n",
    "        masked_movie.append(char)"
   ]
  },
  {
   "cell_type": "code",
   "execution_count": null,
   "id": "178ae89e",
   "metadata": {},
   "outputs": [],
   "source": [
    "# Step 3: Initialize game variables\n",
    "attempts = len(selected_movie) + 5  # Extra attempts\n",
    "guessed_letters = []"
   ]
  },
  {
   "cell_type": "code",
   "execution_count": null,
   "id": "b6da538f",
   "metadata": {},
   "outputs": [],
   "source": [
    "# Get the player's guess\n",
    "guess = input(\"Guess a letter: \").upper()"
   ]
  },
  {
   "cell_type": "code",
   "execution_count": null,
   "id": "c0ecc023",
   "metadata": {},
   "outputs": [],
   "source": [
    "# Check if the letter was already guessed\n",
    "if guess in guessed_letters:\n",
    "    print(\"You already guessed that letter. Try again.\")"
   ]
  },
  {
   "cell_type": "code",
   "execution_count": null,
   "id": "8829273d",
   "metadata": {},
   "outputs": [],
   "source": [
    "# Add the guess to the list of guessed letters\n",
    "guessed_letters.append(guess)"
   ]
  },
  {
   "cell_type": "code",
   "execution_count": null,
   "id": "5a20451c",
   "metadata": {},
   "outputs": [],
   "source": [
    "# Check if the guess is in the movie title\n",
    "if guess in selected_movie:\n",
    "    print(\"Correct guess!\")\n",
    "    # Update the masked movie\n",
    "    for i in range(len(selected_movie)):\n",
    "        if selected_movie[i] == guess:\n",
    "            masked_movie[i] = guess\n",
    "else:\n",
    "    print(\"Wrong guess!\")\n",
    "    attempts -= 1"
   ]
  },
  {
   "cell_type": "code",
   "execution_count": null,
   "id": "9629070f",
   "metadata": {},
   "outputs": [],
   "source": [
    "# Check if the movie is fully guessed\n",
    "if \"_\" not in masked_movie:\n",
    "    print(\"\\nCongratulations! You guessed the movie:\", selected_movie)"
   ]
  },
  {
   "cell_type": "code",
   "execution_count": null,
   "id": "2241abc7",
   "metadata": {},
   "outputs": [],
   "source": [
    "# Step 5: Game over\n",
    "if \"_\" in masked_movie:\n",
    "    print(\"\\nGame Over! The movie was:\", selected_movie)"
   ]
  },
  {
   "cell_type": "code",
   "execution_count": 1,
   "id": "02671a84",
   "metadata": {},
   "outputs": [
    {
     "name": "stdout",
     "output_type": "stream",
     "text": [
      "\n",
      "Attempts left: 11\n",
      "Current word: _ _ _ _ _ _\n",
      "Guess a letter: a\n",
      "Correct guess!\n",
      "\n",
      "Attempts left: 11\n",
      "Current word: _ A _ A A _\n",
      "Guess a letter: l\n",
      "Correct guess!\n",
      "\n",
      "Attempts left: 11\n",
      "Current word: L A _ A A _\n",
      "Guess a letter: g\n",
      "Correct guess!\n",
      "\n",
      "Attempts left: 11\n",
      "Current word: L A G A A _\n",
      "Guess a letter: n\n",
      "Correct guess!\n",
      "\n",
      "Congratulations! You guessed the movie: LAGAAN\n"
     ]
    }
   ],
   "source": [
    "# Bollywood Word Guessing Game\n",
    "\n",
    "import random\n",
    "\n",
    "# List of Bollywood movie titles\n",
    "movies = [\"Sholay\", \"Dangal\", \"Lagaan\", \"Dilwale\", \"Kahaani\", \"Padmaavat\"]\n",
    "\n",
    "# Step 1: Randomly select a movie\n",
    "selected_movie = random.choice(movies).upper()  # Convert to uppercase for consistency\n",
    "\n",
    "# Step 2: Create a masked version of the movie using a list\n",
    "masked_movie = []\n",
    "for char in selected_movie:\n",
    "    if char.isalpha():  # Only mask alphabetic characters\n",
    "        masked_movie.append(\"_\")\n",
    "    else:\n",
    "        masked_movie.append(char)\n",
    "\n",
    "# Step 3: Initialize game variables\n",
    "attempts = len(selected_movie) + 5  # Extra attempts\n",
    "guessed_letters = []\n",
    "\n",
    "# Step 4: Game loop\n",
    "while attempts > 0:\n",
    "    # Display current game state\n",
    "    print(\"\\nAttempts left:\", attempts)\n",
    "    print(\"Current word:\", \" \".join(masked_movie))\n",
    "\n",
    "    # Get the player's guess\n",
    "    guess = input(\"Guess a letter: \").upper()\n",
    "\n",
    "    # Check if the letter was already guessed\n",
    "    if guess in guessed_letters:\n",
    "        print(\"You already guessed that letter. Try again.\")\n",
    "        continue\n",
    "\n",
    "    # Add the guess to the list of guessed letters\n",
    "    guessed_letters.append(guess)\n",
    "\n",
    "    # Check if the guess is in the movie title\n",
    "    if guess in selected_movie:\n",
    "        print(\"Correct guess!\")\n",
    "        # Update the masked movie\n",
    "        for i in range(len(selected_movie)):\n",
    "            if selected_movie[i] == guess:\n",
    "                masked_movie[i] = guess\n",
    "    else:\n",
    "        print(\"Wrong guess!\")\n",
    "        attempts -= 1\n",
    "\n",
    "    # Check if the movie is fully guessed\n",
    "    if \"_\" not in masked_movie:\n",
    "        print(\"\\nCongratulations! You guessed the movie:\", selected_movie)\n",
    "        break\n",
    "\n",
    "# Step 5: Game over\n",
    "if \"_\" in masked_movie:\n",
    "    print(\"\\nGame Over! The movie was:\", selected_movie)\n"
   ]
  },
  {
   "cell_type": "markdown",
   "id": "cf195b89",
   "metadata": {},
   "source": [
    "# Without List:"
   ]
  },
  {
   "cell_type": "code",
   "execution_count": 5,
   "id": "df379593",
   "metadata": {},
   "outputs": [
    {
     "name": "stdout",
     "output_type": "stream",
     "text": [
      "Welcome to the Bollywood Word Guessing Game!\n",
      "\n",
      "A random movie has been selected.\n",
      "\n",
      "Current movie: ______\n",
      "\n",
      "Attempts remaining: 11\n",
      "Current movie: ______\n",
      "Guess a letter: t\n",
      "Oops! The letter is not in the movie title.\n",
      "\n",
      "Attempts remaining: 10\n",
      "Current movie: ______\n",
      "Guess a letter: a\n",
      "Good job! The letter is in the movie title.\n",
      "\n",
      "Attempts remaining: 10\n",
      "Current movie: _A__A_\n",
      "Guess a letter: l\n",
      "Good job! The letter is in the movie title.\n",
      "\n",
      "Attempts remaining: 10\n",
      "Current movie: _A__AL\n",
      "Guess a letter: d\n",
      "Good job! The letter is in the movie title.\n",
      "\n",
      "Attempts remaining: 10\n",
      "Current movie: DA__AL\n",
      "Guess a letter: n\n",
      "Good job! The letter is in the movie title.\n",
      "\n",
      "Attempts remaining: 10\n",
      "Current movie: DAN_AL\n",
      "Guess a letter: g\n",
      "Good job! The letter is in the movie title.\n",
      "\n",
      "Congratulations! You guessed the movie: DANGAL\n"
     ]
    }
   ],
   "source": [
    "# Bollywood Word Guessing Game\n",
    "import random\n",
    "\n",
    "# Step 1: Define the list of Bollywood movies and select a random one\n",
    "print(\"Welcome to the Bollywood Word Guessing Game!\")\n",
    "movies = [\"Sholay\", \"Dangal\", \"Lagaan\", \"Dilwale\", \"Kahaani\", \"Padmaavat\"]\n",
    "\n",
    "# Randomly select a movie\n",
    "selected_movie = random.choice(movies).upper()\n",
    "print(\"\\nA random movie has been selected.\")\n",
    "\n",
    "# Step 2: Create the masked version of the movie (string)\n",
    "masked_movie = \"\"\n",
    "for char in selected_movie:\n",
    "    if char.isalpha():  # Replace alphabetic characters with underscores\n",
    "        masked_movie += \"_\"\n",
    "    else:  # Keep spaces and special characters as is\n",
    "        masked_movie += char\n",
    "\n",
    "# Step 3: Initialize variables\n",
    "attempts = len(selected_movie) + 5  # Allow extra attempts\n",
    "guessed_letters = \"\"  # String to keep track of guessed letters\n",
    "is_game_won = False  # Flag to check if the game is won\n",
    "\n",
    "# Display the initial masked movie\n",
    "print(\"\\nCurrent movie:\", masked_movie)\n",
    "\n",
    "# Step 4: Game loop\n",
    "while attempts > 0:\n",
    "    # Display the remaining attempts and current masked movie\n",
    "    print(f\"\\nAttempts remaining: {attempts}\")\n",
    "    print(\"Current movie:\", masked_movie)\n",
    "\n",
    "    # Step 5: Take user input\n",
    "    guess = input(\"Guess a letter: \").upper()\n",
    "\n",
    "    # Check if the input is valid\n",
    "    if len(guess) != 1 or not guess.isalpha():\n",
    "        print(\"Invalid input! Please enter a single letter.\")\n",
    "        continue\n",
    "\n",
    "    # Check if the letter has already been guessed\n",
    "    if guess in guessed_letters:\n",
    "        print(\"You already guessed that letter. Try another one.\")\n",
    "        continue\n",
    "\n",
    "    # Add the guess to the guessed letters\n",
    "    guessed_letters += guess\n",
    "\n",
    "    # Step 6: Check if the guess is correct\n",
    "    if guess in selected_movie:\n",
    "        print(\"Good job! The letter is in the movie title.\")\n",
    "        # Reveal the letter in the masked movie\n",
    "        new_masked_movie = \"\"\n",
    "        for i in range(len(selected_movie)):\n",
    "            if selected_movie[i] == guess or masked_movie[i] != \"_\":\n",
    "                new_masked_movie += selected_movie[i]\n",
    "            else:\n",
    "                new_masked_movie += \"_\"\n",
    "        masked_movie = new_masked_movie\n",
    "    else:\n",
    "        print(\"Oops! The letter is not in the movie title.\")\n",
    "        attempts -= 1  # Decrease attempts for incorrect guesses\n",
    "\n",
    "    # Step 7: Check if the game is won\n",
    "    if \"_\" not in masked_movie:\n",
    "        is_game_won = True\n",
    "        break\n",
    "\n",
    "# Step 8: Display the result\n",
    "if is_game_won:\n",
    "    print(\"\\nCongratulations! You guessed the movie:\", selected_movie)\n",
    "else:\n",
    "    print(\"\\nGame Over! The correct movie was:\", selected_movie)\n"
   ]
  },
  {
   "cell_type": "code",
   "execution_count": null,
   "id": "3b4d90e5",
   "metadata": {},
   "outputs": [],
   "source": []
  }
 ],
 "metadata": {
  "kernelspec": {
   "display_name": "Python 3 (ipykernel)",
   "language": "python",
   "name": "python3"
  },
  "language_info": {
   "codemirror_mode": {
    "name": "ipython",
    "version": 3
   },
   "file_extension": ".py",
   "mimetype": "text/x-python",
   "name": "python",
   "nbconvert_exporter": "python",
   "pygments_lexer": "ipython3",
   "version": "3.11.5"
  }
 },
 "nbformat": 4,
 "nbformat_minor": 5
}
